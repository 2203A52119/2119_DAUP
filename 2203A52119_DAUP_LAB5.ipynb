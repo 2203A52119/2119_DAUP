{
  "nbformat": 4,
  "nbformat_minor": 0,
  "metadata": {
    "colab": {
      "provenance": [],
      "authorship_tag": "ABX9TyPa90ObBIOf94HK86Ee74BR",
      "include_colab_link": true
    },
    "kernelspec": {
      "name": "python3",
      "display_name": "Python 3"
    },
    "language_info": {
      "name": "python"
    }
  },
  "cells": [
    {
      "cell_type": "markdown",
      "metadata": {
        "id": "view-in-github",
        "colab_type": "text"
      },
      "source": [
        "<a href=\"https://colab.research.google.com/github/2203A52119/2119_DAUP/blob/main/2203A52119_DAUP_LAB5.ipynb\" target=\"_parent\"><img src=\"https://colab.research.google.com/assets/colab-badge.svg\" alt=\"Open In Colab\"/></a>"
      ]
    },
    {
      "cell_type": "code",
      "execution_count": null,
      "metadata": {
        "id": "hKXiZBOJAgaJ",
        "colab": {
          "base_uri": "https://localhost:8080/"
        },
        "outputId": "393f786c-d5f1-4aa3-8fc6-fe7e07249679"
      },
      "outputs": [
        {
          "output_type": "stream",
          "name": "stdout",
          "text": [
            "\n",
            "Summary Statistics:\n",
            "                count          mean           std    min    25%       50%  \\\n",
            "Balance       10000.0  76485.889288  62397.405202    0.0    0.0  97198.54   \n",
            "CreditScore   10000.0    650.528800     96.653299  350.0  584.0    652.00   \n",
            "Point Earned  10000.0    606.515100    225.924839  119.0  410.0    605.00   \n",
            "\n",
            "                    75%        max  skewness  kurtosis  \n",
            "Balance       127644.24  250898.09 -0.141088 -1.489267  \n",
            "CreditScore      718.00     850.00 -0.071596 -0.426113  \n",
            "Point Earned     801.00    1000.00  0.008343 -1.193784  \n",
            "\n",
            "Gender Distribution:\n",
            "Gender\n",
            "Male      54.57\n",
            "Female    45.43\n",
            "Name: proportion, dtype: float64\n",
            "\n",
            "Geography Distribution:\n",
            "Geography\n",
            "France     50.14\n",
            "Germany    25.09\n",
            "Spain      24.77\n",
            "Name: proportion, dtype: float64\n",
            "\n",
            "Age Distribution:\n",
            "count    10000.000000\n",
            "mean        38.921800\n",
            "std         10.487806\n",
            "min         18.000000\n",
            "25%         32.000000\n",
            "50%         37.000000\n",
            "75%         44.000000\n",
            "max         92.000000\n",
            "Name: Age, dtype: float64\n",
            "\n",
            "Transaction Count Stats (Active vs. Inactive Customers):\n",
            "          min   max        mean\n",
            "Inactive  119  1000  607.675397\n",
            "Active    206  1000  605.422831\n",
            "\n",
            "Correlation Matrix:\n",
            "              CreditScore   Balance  Point Earned\n",
            "CreditScore      1.000000  0.006268      0.000077\n",
            "Balance          0.006268  1.000000      0.014608\n",
            "Point Earned     0.000077  0.014608      1.000000\n",
            "\n",
            "Balance & Transaction Activity (Stayed vs. Churned):\n",
            "              Balance                          Point Earned                   \n",
            "                 mean     median           std         mean median         std\n",
            "Stayed   72742.750663   92063.06  62851.577108   607.044084  603.0  226.091682\n",
            "Churned  91109.476006  109344.23  58346.483197   604.448479  610.5  225.315301\n",
            "\n",
            "Probability of a Customer Having Both Low Credit Score & High Balance:\n",
            "0.0638\n"
          ]
        }
      ],
      "source": [
        "import pandas as pd\n",
        "from scipy.stats import skew, kurtosis\n",
        "\n",
        "file_path = \"/content/Bank-Customer-Attrition-Insights-Data.csv\"\n",
        "df = pd.read_csv(file_path)\n",
        "\n",
        "num_vars = [\"Balance\", \"CreditScore\", \"Point Earned\"]\n",
        "\n",
        "summary_stats = df[num_vars].describe().T\n",
        "summary_stats[\"skewness\"] = df[num_vars].apply(skew)\n",
        "summary_stats[\"kurtosis\"] = df[num_vars].apply(kurtosis)\n",
        "\n",
        "print(\"\\nSummary Statistics:\")\n",
        "print(summary_stats)\n",
        "\n",
        "gender_distribution = df[\"Gender\"].value_counts(normalize=True) * 100\n",
        "geography_distribution = df[\"Geography\"].value_counts(normalize=True) * 100\n",
        "age_distribution = df[\"Age\"].describe()\n",
        "\n",
        "print(\"\\nGender Distribution:\")\n",
        "print(gender_distribution)\n",
        "\n",
        "print(\"\\nGeography Distribution:\")\n",
        "print(geography_distribution)\n",
        "\n",
        "print(\"\\nAge Distribution:\")\n",
        "print(age_distribution)\n",
        "\n",
        "transaction_stats = df.groupby(\"IsActiveMember\")[\"Point Earned\"].agg([\"min\", \"max\", \"mean\"])\n",
        "transaction_stats.index = [\"Inactive\", \"Active\"]\n",
        "\n",
        "print(\"\\nTransaction Count Stats (Active vs. Inactive Customers):\")\n",
        "print(transaction_stats)\n",
        "\n",
        "correlation_matrix = df[[\"CreditScore\", \"Balance\", \"Point Earned\"]].corr()\n",
        "\n",
        "print(\"\\nCorrelation Matrix:\")\n",
        "print(correlation_matrix)\n",
        "\n",
        "churn_stats = df.groupby(\"Exited\")[[\"Balance\", \"Point Earned\"]].agg([\"mean\", \"median\", \"std\"])\n",
        "churn_stats.index = [\"Stayed\", \"Churned\"]\n",
        "\n",
        "print(\"\\nBalance & Transaction Activity (Stayed vs. Churned):\")\n",
        "print(churn_stats)\n",
        "\n",
        "low_credit_threshold = df[\"CreditScore\"].quantile(0.25)\n",
        "high_balance_threshold = df[\"Balance\"].quantile(0.75)\n",
        "\n",
        "low_credit_high_balance = df[(df[\"CreditScore\"] <= low_credit_threshold) &\n",
        "                             (df[\"Balance\"] >= high_balance_threshold)]\n",
        "probability = len(low_credit_high_balance) / len(df)\n",
        "\n",
        "print(\"\\nProbability of a Customer Having Both Low Credit Score & High Balance:\")\n",
        "print(probability)\n"
      ]
    }
  ]
}