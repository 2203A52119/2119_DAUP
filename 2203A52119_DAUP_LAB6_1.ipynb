{
  "nbformat": 4,
  "nbformat_minor": 0,
  "metadata": {
    "colab": {
      "provenance": [],
      "authorship_tag": "ABX9TyPEp8fGXZ3rYZWxaUg1T7Yh",
      "include_colab_link": true
    },
    "kernelspec": {
      "name": "python3",
      "display_name": "Python 3"
    },
    "language_info": {
      "name": "python"
    }
  },
  "cells": [
    {
      "cell_type": "markdown",
      "metadata": {
        "id": "view-in-github",
        "colab_type": "text"
      },
      "source": [
        "<a href=\"https://colab.research.google.com/github/2203A52119/2119_DAUP/blob/main/2203A52119_DAUP_LAB6_1.ipynb\" target=\"_parent\"><img src=\"https://colab.research.google.com/assets/colab-badge.svg\" alt=\"Open In Colab\"/></a>"
      ]
    },
    {
      "cell_type": "code",
      "execution_count": null,
      "metadata": {
        "colab": {
          "base_uri": "https://localhost:8080/"
        },
        "id": "WOMQruPQDR8S",
        "outputId": "678ddcba-1c76-4d66-a2ac-9aad1d480223"
      },
      "outputs": [
        {
          "output_type": "stream",
          "name": "stdout",
          "text": [
            "Task 1: Probability Calculations\n",
            "P(A): 0.501\n",
            "P(B): 0.0\n",
            "P(A ∪ B): 0.501\n",
            "P(A ∩ B): 0.0\n",
            "P(A | B): 0\n",
            "P(Health & Beauty): 0.152\n",
            "P(Ewallet & >5 items | Ewallet): 0.4869565217391305\n",
            "P(Yangon & Cash): 0.11\n",
            "P(Member & Rating > 8): 0.157\n",
            "\n",
            "Task 2: Factorials, Permutations, and Combinations\n",
            "Permutations (20,5): 1860480\n",
            "Combinations (6,3): 20\n",
            "Factorial (Branches): 6\n",
            "Permutations (3,4): 0\n",
            "Combinations (15,5): 3003\n",
            "Permutations (26,6): 165765600\n"
          ]
        }
      ],
      "source": [
        "import pandas as pd\n",
        "from math import factorial\n",
        "\n",
        "# Load the dataset\n",
        "data = pd.read_csv('/content/supermarket_sales -.csv')\n",
        "\n",
        "# Task 1: Probability Calculations\n",
        "def calculate_probability(event_condition):\n",
        "    event_count = len(data[event_condition])\n",
        "    total_count = len(data)\n",
        "    return event_count / total_count if total_count > 0 else 0\n",
        "\n",
        "# Define events\n",
        "event_A = (data['Customer type'] == 'Member')\n",
        "event_B = (data['Payment'] == 'Credit Card')\n",
        "\n",
        "# Calculate probabilities\n",
        "P_A = calculate_probability(event_A)\n",
        "P_B = calculate_probability(event_B)\n",
        "P_A_and_B = calculate_probability(event_A & event_B)\n",
        "P_A_union_B = P_A + P_B - P_A_and_B\n",
        "P_A_given_B = P_A_and_B / P_B if P_B > 0 else 0\n",
        "\n",
        "# Additional probability calculations\n",
        "P_health_beauty = calculate_probability(data['Product line'] == 'Health and beauty')\n",
        "P_ewallet_more_than_5 = calculate_probability((data['Payment'] == 'Ewallet') & (data['Quantity'] > 5)) / calculate_probability(data['Payment'] == 'Ewallet') if calculate_probability(data['Payment'] == 'Ewallet') > 0 else 0\n",
        "P_yangon_cash = calculate_probability((data['City'] == 'Yangon') & (data['Payment'] == 'Cash'))\n",
        "P_member_rating_above_8 = calculate_probability((data['Customer type'] == 'Member') & (data['Rating'] > 8))\n",
        "\n",
        "# Print Task 1 results\n",
        "task1_results = {\n",
        "    'P(A)': P_A,\n",
        "    'P(B)': P_B,\n",
        "    'P(A ∪ B)': P_A_union_B,\n",
        "    'P(A ∩ B)': P_A_and_B,\n",
        "    'P(A | B)': P_A_given_B,\n",
        "    'P(Health & Beauty)': P_health_beauty,\n",
        "    'P(Ewallet & >5 items | Ewallet)': P_ewallet_more_than_5,\n",
        "    'P(Yangon & Cash)': P_yangon_cash,\n",
        "    'P(Member & Rating > 8)': P_member_rating_above_8\n",
        "}\n",
        "\n",
        "print(\"Task 1: Probability Calculations\")\n",
        "for k, v in task1_results.items():\n",
        "    print(f\"{k}: {v}\")\n",
        "\n",
        "# Task 2: Factorials, Permutations, and Combinations\n",
        "def permutations(n, r):\n",
        "    if r > n:\n",
        "        return 0\n",
        "    return factorial(n) // factorial(n - r)\n",
        "\n",
        "def combinations(n, r):\n",
        "    return factorial(n) // (factorial(r) * factorial(n - r))\n",
        "\n",
        "# Dataset-based calculations for Task 2\n",
        "ways_to_arrange_5_of_20 = permutations(20, 5)\n",
        "ways_to_select_3_of_6 = combinations(6, 3)\n",
        "factorial_branches = factorial(data['Branch'].nunique())\n",
        "ways_to_display_payment_methods = permutations(3, 4)\n",
        "ways_to_select_5_employees = combinations(15, 5)\n",
        "ways_to_create_invoice_codes = permutations(26, 6)\n",
        "\n",
        "# Print Task 2 results\n",
        "task2_results = {\n",
        "    'Permutations (20,5)': ways_to_arrange_5_of_20,\n",
        "    'Combinations (6,3)': ways_to_select_3_of_6,\n",
        "    'Factorial (Branches)': factorial_branches,\n",
        "    'Permutations (3,4)': ways_to_display_payment_methods,\n",
        "    'Combinations (15,5)': ways_to_select_5_employees,\n",
        "    'Permutations (26,6)': ways_to_create_invoice_codes\n",
        "}\n",
        "\n",
        "print(\"\\nTask 2: Factorials, Permutations, and Combinations\")\n",
        "for k, v in task2_results.items():\n",
        "    print(f\"{k}: {v}\")"
      ]
    }
  ]
}