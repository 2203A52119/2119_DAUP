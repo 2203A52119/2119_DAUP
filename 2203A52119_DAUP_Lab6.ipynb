{
  "nbformat": 4,
  "nbformat_minor": 0,
  "metadata": {
    "colab": {
      "provenance": [],
      "include_colab_link": true
    },
    "kernelspec": {
      "name": "python3",
      "display_name": "Python 3"
    },
    "language_info": {
      "name": "python"
    }
  },
  "cells": [
    {
      "cell_type": "markdown",
      "metadata": {
        "id": "view-in-github",
        "colab_type": "text"
      },
      "source": [
        "<a href=\"https://colab.research.google.com/github/2203A52119/2119_DAUP/blob/main/2203A52119_DAUP_Lab6.ipynb\" target=\"_parent\"><img src=\"https://colab.research.google.com/assets/colab-badge.svg\" alt=\"Open In Colab\"/></a>"
      ]
    },
    {
      "cell_type": "markdown",
      "source": [
        "Task 1: Probability Calculations Using the Supermarket Sales"
      ],
      "metadata": {
        "id": "OykzIaCEGtx1"
      }
    },
    {
      "cell_type": "code",
      "source": [
        "import pandas as pd\n",
        "\n",
        "# Load the dataset\n",
        "data = pd.read_csv(\"/content/supermarket_sales -.csv\")  # Adjust the path if needed\n",
        "# Print the first 5 columns and first 5 rows of the dataset\n",
        "print(data.head())\n"
      ],
      "metadata": {
        "colab": {
          "base_uri": "https://localhost:8080/"
        },
        "id": "O961KbcwFl89",
        "outputId": "55ad774a-e6f1-4da5-a396-1827a436036c"
      },
      "execution_count": null,
      "outputs": [
        {
          "output_type": "stream",
          "name": "stdout",
          "text": [
            "    Invoice ID Branch       City Customer type  Gender  \\\n",
            "0  750-67-8428      A     Yangon        Member  Female   \n",
            "1  226-31-3081      C  Naypyitaw        Normal  Female   \n",
            "2  631-41-3108      A     Yangon        Normal    Male   \n",
            "3  123-19-1176      A     Yangon        Member    Male   \n",
            "4  373-73-7910      A     Yangon        Normal    Male   \n",
            "\n",
            "             Product line  Unit price  Quantity   Tax 5%     Total       Date  \\\n",
            "0       Health and beauty       74.69         7  26.1415  548.9715   1/5/2019   \n",
            "1  Electronic accessories       15.28         5   3.8200   80.2200   3/8/2019   \n",
            "2      Home and lifestyle       46.33         7  16.2155  340.5255   3/3/2019   \n",
            "3       Health and beauty       58.22         8  23.2880  489.0480  1/27/2019   \n",
            "4       Sports and travel       86.31         7  30.2085  634.3785   2/8/2019   \n",
            "\n",
            "    Time      Payment    cogs  gross margin percentage  gross income  Rating  \n",
            "0  13:08      Ewallet  522.83                 4.761905       26.1415     9.1  \n",
            "1  10:29         Cash   76.40                 4.761905        3.8200     9.6  \n",
            "2  13:23  Credit card  324.31                 4.761905       16.2155     7.4  \n",
            "3  20:33      Ewallet  465.76                 4.761905       23.2880     8.4  \n",
            "4  10:37      Ewallet  604.17                 4.761905       30.2085     5.3  \n"
          ]
        }
      ]
    },
    {
      "cell_type": "markdown",
      "source": [
        "Load the Supermarket Sales Dataset, which includes attributes such as Invoice ID, Branch, City, Customer Type, Gender, Product Line, Unit Price, Quantity, Payment Method, and Rating.\n",
        "Define two events based on the dataset features. Examples:\n",
        "Event A: A transaction is made by a Member customer.\n",
        "Event B: A transaction was made using Credit Card payment."
      ],
      "metadata": {
        "id": "hHyOCXf7HkNh"
      }
    },
    {
      "cell_type": "code",
      "source": [
        "import pandas as pd\n",
        "\n",
        "# Load the dataset\n",
        "data = pd.read_csv(\"/content/supermarket_sales -.csv\")  # Adjust the path if needed\n",
        "\n",
        "# Print the first 5 rows of the dataset\n",
        "print(data.head())\n",
        "\n",
        "# Define event A: Transaction by Member customer\n",
        "A = data[data['Customer type'] == 'Member']\n",
        "\n",
        "# Define event B: Transaction made using Credit Card payment\n",
        "B = data[data['Payment'] == 'Credit card']\n"
      ],
      "metadata": {
        "colab": {
          "base_uri": "https://localhost:8080/"
        },
        "id": "OCkf35p3F3Gu",
        "outputId": "b2188f96-d7f2-4ada-d047-27fc3aca7c43"
      },
      "execution_count": null,
      "outputs": [
        {
          "output_type": "stream",
          "name": "stdout",
          "text": [
            "    Invoice ID Branch       City Customer type  Gender  \\\n",
            "0  750-67-8428      A     Yangon        Member  Female   \n",
            "1  226-31-3081      C  Naypyitaw        Normal  Female   \n",
            "2  631-41-3108      A     Yangon        Normal    Male   \n",
            "3  123-19-1176      A     Yangon        Member    Male   \n",
            "4  373-73-7910      A     Yangon        Normal    Male   \n",
            "\n",
            "             Product line  Unit price  Quantity   Tax 5%     Total       Date  \\\n",
            "0       Health and beauty       74.69         7  26.1415  548.9715   1/5/2019   \n",
            "1  Electronic accessories       15.28         5   3.8200   80.2200   3/8/2019   \n",
            "2      Home and lifestyle       46.33         7  16.2155  340.5255   3/3/2019   \n",
            "3       Health and beauty       58.22         8  23.2880  489.0480  1/27/2019   \n",
            "4       Sports and travel       86.31         7  30.2085  634.3785   2/8/2019   \n",
            "\n",
            "    Time      Payment    cogs  gross margin percentage  gross income  Rating  \n",
            "0  13:08      Ewallet  522.83                 4.761905       26.1415     9.1  \n",
            "1  10:29         Cash   76.40                 4.761905        3.8200     9.6  \n",
            "2  13:23  Credit card  324.31                 4.761905       16.2155     7.4  \n",
            "3  20:33      Ewallet  465.76                 4.761905       23.2880     8.4  \n",
            "4  10:37      Ewallet  604.17                 4.761905       30.2085     5.3  \n"
          ]
        }
      ]
    },
    {
      "cell_type": "markdown",
      "source": [
        "Write a Python program to:\n",
        "Compute P(A), P(B), P(A ∪ B), P(A ∩ B), and P(A | B).\n",
        "Use the formulae:\n",
        "Union: P(A ∪ B) = P(A) + P(B) - P(A ∩ B)\n",
        "Intersection: P(A ∩ B) = count(A and B) / total transactions\n",
        "Conditional: P(A | B) = P(A ∩ B) / P(B)\n",
        "What is the probability that a randomly chosen transaction belongs to the Health & Beauty product line?\n",
        "Given that a customer used Ewallet, what is the probability that they purchased more than 5 items?\n",
        "What is the probability that a randomly selected transaction from Yangon used Cash as the payment method?\n",
        "Compute the probability of selecting a customer who is a Member and has given a rating above 8.\n"
      ],
      "metadata": {
        "id": "RCibLV0hHg8E"
      }
    },
    {
      "cell_type": "code",
      "source": [
        "# Total transactions\n",
        "total_transactions = len(data)\n",
        "\n",
        "# P(A) - Transaction by Member\n",
        "P_A = len(A) / total_transactions\n",
        "\n",
        "# P(B) - Transaction by Credit Card\n",
        "P_B = len(B) / total_transactions\n",
        "\n",
        "# P(A ∪ B) - Union of A and B\n",
        "P_A_union_B = P_A + P_B - len(A.merge(B)) / total_transactions\n",
        "\n",
        "# P(A ∩ B) - Intersection of A and B\n",
        "P_A_intersection_B = len(A.merge(B)) / total_transactions\n",
        "\n",
        "# P(A | B) - Conditional probability of A given B\n",
        "P_A_given_B = P_A_intersection_B / P_B if P_B != 0 else 0\n",
        "\n",
        "# Output the probabilities\n",
        "print(f\"P(A) = {P_A}\")\n",
        "print(f\"P(B) = {P_B}\")\n",
        "print(f\"P(A ∪ B) = {P_A_union_B}\")\n",
        "print(f\"P(A ∩ B) = {P_A_intersection_B}\")\n",
        "print(f\"P(A | B) = {P_A_given_B}\")\n",
        "\n",
        "# Other Probability Questions\n",
        "\n",
        "# Probability of Health & Beauty product line\n",
        "health_beauty = data[data['Product line'] == 'Health and beauty']\n",
        "P_health_beauty = len(health_beauty) / total_transactions\n",
        "print(f\"P(Health & Beauty) = {P_health_beauty}\")\n",
        "\n",
        "# Probability of Ewallet and more than 5 items\n",
        "ewallet = data[data['Payment'] == 'Ewallet']\n",
        "more_than_5_items = ewallet[ewallet['Quantity'] > 5]\n",
        "P_ewallet_more_than_5 = len(more_than_5_items) / len(ewallet)\n",
        "print(f\"P(Ewallet and more than 5 items) = {P_ewallet_more_than_5}\")\n",
        "\n",
        "# Probability of Yangon and Cash payment\n",
        "yangon_cash = data[(data['City'] == 'Yangon') & (data['Payment'] == 'Cash')]\n",
        "P_yangon_cash = len(yangon_cash) / total_transactions\n",
        "print(f\"P(Yangon and Cash) = {P_yangon_cash}\")\n",
        "\n",
        "# Probability of Member and Rating above 8\n",
        "member_high_rating = data[(data['Customer type'] == 'Member') & (data['Rating'] > 8)]\n",
        "P_member_high_rating = len(member_high_rating) / total_transactions\n",
        "print(f\"P(Member and Rating > 8) = {P_member_high_rating}\")\n"
      ],
      "metadata": {
        "colab": {
          "base_uri": "https://localhost:8080/"
        },
        "id": "7x8cvX3cF5wA",
        "outputId": "ffc95bc3-6894-4054-a23d-6ff325343382"
      },
      "execution_count": null,
      "outputs": [
        {
          "output_type": "stream",
          "name": "stdout",
          "text": [
            "P(A) = 0.501\n",
            "P(B) = 0.311\n",
            "P(A ∪ B) = 0.6400000000000001\n",
            "P(A ∩ B) = 0.172\n",
            "P(A | B) = 0.5530546623794211\n",
            "P(Health & Beauty) = 0.152\n",
            "P(Ewallet and more than 5 items) = 0.48695652173913045\n",
            "P(Yangon and Cash) = 0.11\n",
            "P(Member and Rating > 8) = 0.157\n"
          ]
        }
      ]
    },
    {
      "cell_type": "markdown",
      "source": [
        "Task 2: Factorials, Permutations, and Combinations Using Dataset Features"
      ],
      "metadata": {
        "id": "gq94sZyhG3f3"
      }
    },
    {
      "cell_type": "markdown",
      "source": [
        "Implement functions in Python to compute:\n",
        "Factorial of a number.\n",
        "Permutations: P(n, r) = n! / (n-r)!\n",
        "Combinations: C(n, r) = n! / (r!(n-r)!)\n",
        "Use your functions to solve dataset-based scenarios.\n",
        "Permutation: In how many different ways can 5 different transactions be arranged from a day's sales of 20 transactions?\n",
        "Combination: How many ways can 3 different product lines be selected from the 6 available product categories?\n",
        "Factorial: Compute the factorial of the total number of different branches in the dataset.\n",
        "If the supermarket wants to display 4 different payment methods on a promotion banner from the available 3 types, in how many ways can this be done?\n",
        "In how many different ways can 5 employees be selected to participate in a customer feedback survey from a total of 15 employees?\n",
        "If the supermarket wants to create unique invoice codes using 6 letters from the English alphabet, in how many ways can this be achieved?\n"
      ],
      "metadata": {
        "id": "O4mnjhBFHnpf"
      }
    },
    {
      "cell_type": "code",
      "source": [
        "import math\n",
        "\n",
        "# Factorial Function\n",
        "def factorial(n):\n",
        "    return math.factorial(n)\n",
        "\n",
        "# Permutation Function: P(n, r) = n! / (n - r)!\n",
        "def permutations(n, r):\n",
        "    return math.perm(n, r)\n",
        "\n",
        "# Combination Function: C(n, r) = n! / (r! * (n - r)!)\n",
        "def combinations(n, r):\n",
        "    return math.comb(n, r)\n"
      ],
      "metadata": {
        "id": "1ow0dytpG1Hp"
      },
      "execution_count": null,
      "outputs": []
    },
    {
      "cell_type": "code",
      "source": [
        "# Number of transactions for permutation and combination calculations\n",
        "num_transactions = len(data)\n",
        "\n",
        "# Number of different product lines\n",
        "num_product_lines = data['Product line'].nunique()\n",
        "\n",
        "# Number of different branches\n",
        "num_branches = data['Branch'].nunique()\n",
        "\n",
        "# Scenario 1: Permutation - In how many different ways can 5 different transactions be arranged from 20 transactions?\n",
        "# P(20, 5)\n",
        "print(f\"Permutations (5 out of 20 transactions): {permutations(20, 5)}\")\n",
        "\n",
        "# Scenario 2: Combination - How many ways can 3 different product lines be selected from the 6 available product categories?\n",
        "# C(6, 3)\n",
        "print(f\"Combinations (3 product lines from 6): {combinations(6, 3)}\")\n",
        "\n",
        "# Scenario 3: Factorial - Compute the factorial of the total number of different branches in the dataset\n",
        "print(f\"Factorial of total number of branches ({num_branches}): {factorial(num_branches)}\")\n",
        "\n",
        "# Scenario 4: The supermarket wants to display 4 different payment methods from the available 3 types\n",
        "# Since there are only 3 types, it is not possible to choose 4. Let's calculate combinations of 3.\n",
        "print(f\"Combinations of 3 out of 3 payment methods: {combinations(3, 3)}\")\n",
        "\n",
        "# Scenario 5: In how many different ways can 5 employees be selected from a total of 15 employees?\n",
        "# C(15, 5)\n",
        "print(f\"Combinations of selecting 5 employees from 15: {combinations(15, 5)}\")\n",
        "\n",
        "# Scenario 6: The supermarket wants to create unique invoice codes using 6 letters from the English alphabet\n",
        "# P(26, 6) - Permutation of 6 letters from 26 English alphabet letters\n",
        "print(f\"Permutations of 6 letters from 26: {permutations(26, 6)}\")\n"
      ],
      "metadata": {
        "colab": {
          "base_uri": "https://localhost:8080/"
        },
        "id": "VlGf6G7CG9Gf",
        "outputId": "7275a2fa-35cd-48ea-a023-88f52092359b"
      },
      "execution_count": null,
      "outputs": [
        {
          "output_type": "stream",
          "name": "stdout",
          "text": [
            "Permutations (5 out of 20 transactions): 1860480\n",
            "Combinations (3 product lines from 6): 20\n",
            "Factorial of total number of branches (3): 6\n",
            "Combinations of 3 out of 3 payment methods: 1\n",
            "Combinations of selecting 5 employees from 15: 3003\n",
            "Permutations of 6 letters from 26: 165765600\n"
          ]
        }
      ]
    },
    {
      "cell_type": "code",
      "source": [],
      "metadata": {
        "id": "y6oqeBDrG-86"
      },
      "execution_count": null,
      "outputs": []
    }
  ]
}